{
 "metadata": {
  "name": ""
 },
 "nbformat": 3,
 "nbformat_minor": 0,
 "worksheets": [
  {
   "cells": [
    {
     "cell_type": "code",
     "collapsed": false,
     "input": [
      "\"\"\"\n",
      "Paradigma labs 2014\n",
      "\"\"\""
     ],
     "language": "python",
     "metadata": {},
     "outputs": [
      {
       "metadata": {},
       "output_type": "pyout",
       "prompt_number": 36,
       "text": [
        "'\\nParadigma labs 2014\\n'"
       ]
      }
     ],
     "prompt_number": 36
    },
    {
     "cell_type": "code",
     "collapsed": false,
     "input": [
      "from sklearn import svm\n",
      "from sklearn import cross_validation\n",
      "from sklearn.feature_extraction.text import CountVectorizer\n",
      "from sklearn.externals import joblib\n",
      "import pickle\n",
      "import time"
     ],
     "language": "python",
     "metadata": {},
     "outputs": [],
     "prompt_number": 37
    },
    {
     "cell_type": "code",
     "collapsed": false,
     "input": [
      "# Load previus calculated SVM model\n",
      "t_start = time.time()\n",
      "clf = joblib.load('models/svm_model.pkl')\n",
      "print(\"SVM model elaped time %.4f \" % (round(time.time()-t_start,3)))\n",
      "\n",
      "# Load vectorized index\n",
      "t_vectorized_start = time.time()\n",
      "with open('models/vectorizer.pkl', 'rb') as i_file:\n",
      "    vectorizer = pickle.load(i_file)\n",
      "\n",
      "# Debug info\n",
      "print(\"Vectorized elaped time %.4f \" % (round(time.time()-t_vectorized_start,3)))\n",
      "print(\"Whole model elaped time %.4f \" % (round(time.time()-t_start,3)))"
     ],
     "language": "python",
     "metadata": {},
     "outputs": [
      {
       "output_type": "stream",
       "stream": "stdout",
       "text": [
        "SVM model elaped time 0.0130 \n",
        "Vectorized elaped time 0.3270 "
       ]
      },
      {
       "output_type": "stream",
       "stream": "stdout",
       "text": [
        "\n",
        "Whole model elaped time 0.3400 \n"
       ]
      }
     ],
     "prompt_number": 38
    },
    {
     "cell_type": "code",
     "collapsed": false,
     "input": [
      "# Set some samples\n",
      "samples = [(\"i love the equalizer in my new scotch walkman\", 0), \n",
      "           (\"the cell batery works bad\", 0),\n",
      "           (\"we had a shot of scotch whiskey at the hotel bar\",1), \n",
      "           (\"the hotel is in a great location close to all that downtown portsmouth has to offer\",1)]\n",
      "\n",
      "# Classify each sample\n",
      "for sample in samples:\n",
      "    t_start = time.time()\n",
      "    vector = vectorizer.transform([sample[0]]).toarray()\n",
      "    label = clf.predict(vector)\n",
      "    print(\"Labeled: %s Prediction: %s\" % (sample[1], label))\n",
      "    print(\"Elaped time %.6f\\n\" % (round(time.time()-t_start,5)))"
     ],
     "language": "python",
     "metadata": {},
     "outputs": [
      {
       "output_type": "stream",
       "stream": "stdout",
       "text": [
        "Labeled: 0 Prediction: [0]\n",
        "Elaped time 0.002020\n",
        "\n",
        "Labeled: 0 Prediction: [0]\n",
        "Elaped time 0.001580\n",
        "\n",
        "Labeled: 1 Prediction: [1]\n",
        "Elaped time 0.001660\n",
        "\n",
        "Labeled: 1 Prediction: [1]\n",
        "Elaped time 0.001530\n",
        "\n"
       ]
      }
     ],
     "prompt_number": 39
    },
    {
     "cell_type": "code",
     "collapsed": false,
     "input": [],
     "language": "python",
     "metadata": {},
     "outputs": [],
     "prompt_number": 39
    }
   ],
   "metadata": {}
  }
 ]
}