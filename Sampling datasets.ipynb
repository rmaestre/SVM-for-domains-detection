{
 "metadata": {
  "name": ""
 },
 "nbformat": 3,
 "nbformat_minor": 0,
 "worksheets": [
  {
   "cells": [
    {
     "cell_type": "code",
     "collapsed": false,
     "input": [
      "# Sampling datasets from RawData\n",
      "langs = {0: \"sp\", 1: \"en\"}\n",
      "lang = langs[1]\n",
      "\n",
      "# Load corpus from domains review\n",
      "with open(\"%s_sampling.txt\"%lang, \"w\") as file_out:\n",
      "    # Load corpus from hotels review\n",
      "    cont = 0\n",
      "    with open(\"data/rawdata/%s/electronics/electronics.txt\" % lang, \"r\") as file_in:\n",
      "        for line in file_in.readlines():\n",
      "            if cont % 3 == 0:\n",
      "                file_out.write(line)\n",
      "            cont += 1"
     ],
     "language": "python",
     "metadata": {},
     "outputs": [],
     "prompt_number": 17
    },
    {
     "cell_type": "code",
     "collapsed": false,
     "input": [],
     "language": "python",
     "metadata": {},
     "outputs": []
    }
   ],
   "metadata": {}
  }
 ]
}