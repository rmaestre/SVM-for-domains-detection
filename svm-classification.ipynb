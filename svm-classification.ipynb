{
 "metadata": {
  "name": ""
 },
 "nbformat": 3,
 "nbformat_minor": 0,
 "worksheets": [
  {
   "cells": [
    {
     "cell_type": "code",
     "collapsed": false,
     "input": [
      "\"\"\"\n",
      "Paradigma labs 2014\n",
      "\"\"\""
     ],
     "language": "python",
     "metadata": {},
     "outputs": [
      {
       "metadata": {},
       "output_type": "pyout",
       "prompt_number": 1,
       "text": [
        "'\\nParadigma labs 2014\\n'"
       ]
      }
     ],
     "prompt_number": 1
    },
    {
     "cell_type": "code",
     "collapsed": false,
     "input": [
      "from sklearn import svm\n",
      "from sklearn import cross_validation\n",
      "from sklearn.feature_extraction.text import CountVectorizer\n",
      "from sklearn.externals import joblib\n",
      "\n",
      "import pickle\n",
      "import time"
     ],
     "language": "python",
     "metadata": {},
     "outputs": [],
     "prompt_number": 9
    },
    {
     "cell_type": "code",
     "collapsed": false,
     "input": [
      "# Load previus calculated SVM model\n",
      "t_start = time.time()\n",
      "clf = joblib.load('models/svm_model.pkl')\n",
      "print(\"SVM model elaped time %.4f \" % (round(time.time()-t_start,3)))\n",
      "# Load vectorized index\n",
      "t_vectorized_start = time.time()\n",
      "with open('models/vectorizer.pkl', 'rb') as o_file:\n",
      "    vectorizer = pickle.load(o_file)\n",
      "print(\"Vectorized elaped time %.4f \" % (round(time.time()-t_vectorized_start,3)))\n",
      "print(\"Whole model elaped time %.4f \" % (round(time.time()-t_start,3)))"
     ],
     "language": "python",
     "metadata": {},
     "outputs": [
      {
       "output_type": "stream",
       "stream": "stdout",
       "text": [
        "SVM model elaped time 0.0100 \n",
        "Vectorized elaped time 0.2520 "
       ]
      },
      {
       "output_type": "stream",
       "stream": "stdout",
       "text": [
        "\n",
        "Whole model elaped time 0.2630 \n"
       ]
      }
     ],
     "prompt_number": 10
    },
    {
     "cell_type": "code",
     "collapsed": false,
     "input": [
      "# I love the equalizer in my new scotch walkman\n",
      "# The cell batery works bad\n",
      "# The hotel is in a great location close to all that downtown Portsmouth has to offer\n",
      "# We had a shot of scotch whiskey at the hotel bar\n",
      "t_start = time.time()\n",
      "sample = vectorizer.transform(['We had a shot of scotch whiskey at the hotel bar']).toarray()\n",
      "label = clf.predict(sample)\n",
      "print(\"Classification elaped time %.4f \" % (round(time.time()-t_start,3)))\n",
      "print(\"Class prediction: %s\" % label)"
     ],
     "language": "python",
     "metadata": {},
     "outputs": [
      {
       "output_type": "stream",
       "stream": "stdout",
       "text": [
        "Classification elaped time 0.0030 \n",
        "Class prediction: [1]\n"
       ]
      }
     ],
     "prompt_number": 11
    },
    {
     "cell_type": "code",
     "collapsed": false,
     "input": [],
     "language": "python",
     "metadata": {},
     "outputs": [],
     "prompt_number": 4
    }
   ],
   "metadata": {}
  }
 ]
}