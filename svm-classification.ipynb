{
 "metadata": {
  "name": ""
 },
 "nbformat": 3,
 "nbformat_minor": 0,
 "worksheets": [
  {
   "cells": [
    {
     "cell_type": "code",
     "collapsed": false,
     "input": [
      "\"\"\"\n",
      "Paradigma labs 2014\n",
      "\"\"\""
     ],
     "language": "python",
     "metadata": {},
     "outputs": [
      {
       "metadata": {},
       "output_type": "pyout",
       "prompt_number": 31,
       "text": [
        "'\\nParadigma labs 2014\\n'"
       ]
      }
     ],
     "prompt_number": 31
    },
    {
     "cell_type": "code",
     "collapsed": false,
     "input": [
      "from sklearn import svm\n",
      "from sklearn import cross_validation\n",
      "from sklearn.feature_extraction.text import CountVectorizer\n",
      "from sklearn.externals import joblib\n",
      "import pickle\n",
      "import time"
     ],
     "language": "python",
     "metadata": {},
     "outputs": [],
     "prompt_number": 32
    },
    {
     "cell_type": "code",
     "collapsed": false,
     "input": [
      "# Lang options\n",
      "langs = {0: \"sp\", 1: \"en\"}\n",
      "lang = langs[0]\n",
      "\n",
      "# Load previus calculated SVM model\n",
      "t_start = time.time()\n",
      "clf = joblib.load('models/%s/svm_model.pkl'%lang)\n",
      "print(\"SVM model elaped time %.4f \" % (round(time.time()-t_start,3)))\n",
      "\n",
      "# Load vectorized index\n",
      "t_vectorized_start = time.time()\n",
      "with open('models/%s/vectorizer.pkl'%lang, 'rb') as i_file:\n",
      "    vectorizer = pickle.load(i_file)\n",
      "\n",
      "# Debug info\n",
      "print(\"Vectorized elaped time %.4f \" % (round(time.time()-t_vectorized_start,3)))\n",
      "print(\"Whole model elaped time %.4f \" % (round(time.time()-t_start,3)))"
     ],
     "language": "python",
     "metadata": {},
     "outputs": [
      {
       "output_type": "stream",
       "stream": "stdout",
       "text": [
        "SVM model elaped time 0.0130 \n",
        "Vectorized elaped time 0.3760 "
       ]
      },
      {
       "output_type": "stream",
       "stream": "stdout",
       "text": [
        "\n",
        "Whole model elaped time 0.3890 \n"
       ]
      }
     ],
     "prompt_number": 33
    },
    {
     "cell_type": "code",
     "collapsed": false,
     "input": [
      "# Set some samples\n",
      "if lang == \"en\":\n",
      "    samples = [(\"i love the equalizer in my new scotch walkman\", 0), \n",
      "               (\"the cell batery works bad\", 0),\n",
      "               (\"we had a shot of scotch whiskey at the hotel bar\",1), \n",
      "               (\"the hotel is in a great location close to all that downtown portsmouth has to offer\",1)]\n",
      "elif lang == \"sp\":\n",
      "    samples = [(\"El de 99 euros tiene 16Gb de memoria, el de 139 s\u00f3lo 8Gb\", 0), \n",
      "               (\"Los amigos pueden compartir las pantallas as\u00ed como explorar la m\u00fasica, archivos y juegos favoritos del otro\", 0),\n",
      "               (\"El The Palm at Playa dispone de una terraza en la azotea con piscina, bar, spa y gimnasio\",1), \n",
      "               (\"ofrece 2 piscinas al aire libre, ba\u00f1era de hidromasaje y habitaciones c\u00f3modas con balc\u00f3n\",1)]\n",
      "    \n",
      "# Classify each sample\n",
      "for sample in samples:\n",
      "    t_start = time.time()\n",
      "    vector = vectorizer.transform([sample[0]]).toarray()\n",
      "    label = clf.predict(vector)\n",
      "    print(\"Labeled: %s Prediction: %s\" % (sample[1], label))\n",
      "    print(\"Elaped time %.6f\\n\" % (round(time.time()-t_start,5)))"
     ],
     "language": "python",
     "metadata": {},
     "outputs": [
      {
       "output_type": "stream",
       "stream": "stdout",
       "text": [
        "Labeled: 0 Prediction: [0]\n",
        "Elaped time 0.002280\n",
        "\n",
        "Labeled: 0 Prediction: [0]\n",
        "Elaped time 0.001820\n",
        "\n",
        "Labeled: 1 Prediction: [0]\n",
        "Elaped time 0.001670\n",
        "\n",
        "Labeled: 1 Prediction: [1]\n",
        "Elaped time 0.001660\n",
        "\n"
       ]
      }
     ],
     "prompt_number": 34
    },
    {
     "cell_type": "code",
     "collapsed": false,
     "input": [],
     "language": "python",
     "metadata": {},
     "outputs": [],
     "prompt_number": 34
    },
    {
     "cell_type": "code",
     "collapsed": false,
     "input": [],
     "language": "python",
     "metadata": {},
     "outputs": [],
     "prompt_number": 34
    }
   ],
   "metadata": {}
  }
 ]
}